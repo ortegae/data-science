{
 "cells": [
  {
   "cell_type": "code",
   "execution_count": 1,
   "id": "045c6554",
   "metadata": {},
   "outputs": [],
   "source": [
    "#import required packages\n",
    "\n",
    "import numpy as np \n",
    "import matplotlib.pyplot as plt\n",
    "from scipy.stats import ttest_rel,norm"
   ]
  },
  {
   "cell_type": "code",
   "execution_count": 2,
   "id": "aa9df323",
   "metadata": {},
   "outputs": [],
   "source": [
    "#Create mock data\n",
    "\n",
    "before=norm.rvs(loc=500,scale=100,size=100,random_state=42).astype(int)\n",
    "\n",
    "np.random.seed(42)\n",
    "\n",
    "after= before + np.random.randint(low=-50,high=75,size=100)"
   ]
  },
  {
   "cell_type": "code",
   "execution_count": 3,
   "id": "12c31531",
   "metadata": {},
   "outputs": [
    {
     "data": {
      "image/png": "[encoded data removed]",
      "text/plain": [
       "<Figure size 432x288 with 1 Axes>"
      ]
     },
     "metadata": {
      "needs_background": "light"
     },
     "output_type": "display_data"
    }
   ],
   "source": [
    "#Visualize Data\n",
    "plt.hist(before,density=True,alpha=0.5,label=\"Before\")\n",
    "plt.hist(after,density=True,alpha=0.5,label=\"After\")\n",
    "plt.show()\n"
   ]
  },
  {
   "cell_type": "code",
   "execution_count": 4,
   "id": "b5b4aaaf",
   "metadata": {},
   "outputs": [
    {
     "name": "stdout",
     "output_type": "stream",
     "text": [
      "489.15 499.45\n"
     ]
    }
   ],
   "source": [
    "before_mean=before.mean()\n",
    "after_mean=after.mean()\n",
    "print(before_mean,after_mean)"
   ]
  },
  {
   "cell_type": "code",
   "execution_count": null,
   "id": "2ad765e2",
   "metadata": {},
   "outputs": [],
   "source": [
    "#Set the Hypothesis & Acceptance criteria \n",
    "null_hypothesis=\"The mean of the before sample is equal to the mean of the Mean of the After Sample\"\n",
    "alternate_hypothesis=\"The mean of the before sample is equal to the mean of the after sample\"\n",
    "acceptance_criteria=0.05\n"
   ]
  },
  {
   "cell_type": "code",
   "execution_count": null,
   "id": "62fcd419",
   "metadata": {},
   "outputs": [],
   "source": [
    "#Execute the Hypothesis Test\n",
    "\n",
    "t_statistic,p_value=ttest_rel(before,after)\n",
    "print(t_statistic,p_value)"
   ]
  },
  {
   "cell_type": "code",
   "execution_count": null,
   "id": "a1d95010",
   "metadata": {},
   "outputs": [],
   "source": []
  },
  {
   "cell_type": "code",
   "execution_count": null,
   "id": "10c3ba51",
   "metadata": {},
   "outputs": [],
   "source": []
  },
  {
   "cell_type": "code",
   "execution_count": null,
   "id": "849e8b1c",
   "metadata": {},
   "outputs": [],
   "source": []
  },
  {
   "cell_type": "code",
   "execution_count": null,
   "id": "638875de",
   "metadata": {},
   "outputs": [],
   "source": []
  }
 ],
 "metadata": {
  "kernelspec": {
   "display_name": "Python 3",
   "language": "python",
   "name": "python3"
  },
  "language_info": {
   "codemirror_mode": {
    "name": "ipython",
    "version": 3
   },
   "file_extension": ".py",
   "mimetype": "text/x-python",
   "name": "python",
   "nbconvert_exporter": "python",
   "pygments_lexer": "ipython3",
   "version": "3.8.10"
  }
 },
 "nbformat": 4,
 "nbformat_minor": 5
}
